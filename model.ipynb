{
 "cells": [
  {
   "cell_type": "code",
   "execution_count": 1,
   "metadata": {},
   "outputs": [],
   "source": [
    "import pandas as pd\n",
    "import numpy as np\n",
    "import matplotlib.pyplot as plt\n",
    "import matplotlib.image as mpimg\n",
    "import seaborn as sns"
   ]
  },
  {
   "cell_type": "code",
   "execution_count": 2,
   "metadata": {},
   "outputs": [],
   "source": [
    "X = pd.read_csv('mnistTrain.csv')\n",
    "test = pd.read_csv('mnistTest.csv')"
   ]
  },
  {
   "cell_type": "code",
   "execution_count": 3,
   "metadata": {},
   "outputs": [
    {
     "name": "stderr",
     "output_type": "stream",
     "text": [
      "C:\\Users\\ankit\\anaconda3\\envs\\tf_gpu\\lib\\site-packages\\seaborn\\_decorators.py:43: FutureWarning: Pass the following variable as a keyword arg: x. From version 0.12, the only valid positional argument will be `data`, and passing other arguments without an explicit keyword will result in an error or misinterpretation.\n",
      "  FutureWarning\n"
     ]
    },
    {
     "data": {
      "text/plain": [
       "<AxesSubplot:xlabel='label', ylabel='count'>"
      ]
     },
     "execution_count": 3,
     "metadata": {},
     "output_type": "execute_result"
    },
    {
     "data": {
      "image/png": "[encoded data removed]",
      "text/plain": [
       "<Figure size 432x288 with 1 Axes>"
      ]
     },
     "metadata": {
      "needs_background": "light"
     },
     "output_type": "display_data"
    }
   ],
   "source": [
    "Y_train = X['label']\n",
    "X_train = X.drop(labels = ['label'],axis = 1)\n",
    "\n",
    "sns.countplot(Y_train)"
   ]
  },
  {
   "cell_type": "code",
   "execution_count": 4,
   "metadata": {},
   "outputs": [
    {
     "data": {
      "text/plain": [
       "count       784\n",
       "unique        1\n",
       "top       False\n",
       "freq        784\n",
       "dtype: object"
      ]
     },
     "execution_count": 4,
     "metadata": {},
     "output_type": "execute_result"
    }
   ],
   "source": [
    "#missing data\n",
    "X_train.isnull().any().describe()"
   ]
  },
  {
   "cell_type": "code",
   "execution_count": 5,
   "metadata": {},
   "outputs": [
    {
     "data": {
      "text/plain": [
       "count       784\n",
       "unique        1\n",
       "top       False\n",
       "freq        784\n",
       "dtype: object"
      ]
     },
     "execution_count": 5,
     "metadata": {},
     "output_type": "execute_result"
    }
   ],
   "source": [
    "test.isnull().any().describe()"
   ]
  },
  {
   "cell_type": "code",
   "execution_count": 6,
   "metadata": {},
   "outputs": [],
   "source": [
    "#normalize\n",
    "\n",
    "X_train = X_train / 255.0\n",
    "test = test / 255.0"
   ]
  },
  {
   "cell_type": "code",
   "execution_count": 7,
   "metadata": {},
   "outputs": [],
   "source": [
    "# Reshape image in 3 dimensions (height = 28px, width = 28px , canal = 1)\n",
    "X_train = X_train.values.reshape(-1,28,28,1)\n",
    "test = test.values.reshape(-1,28,28,1)"
   ]
  },
  {
   "cell_type": "code",
   "execution_count": 8,
   "metadata": {},
   "outputs": [],
   "source": [
    "#encode the set**\n",
    "from keras.utils.np_utils import to_categorical # convert to one-hot-encoding\n",
    "Y_train = to_categorical(Y_train, num_classes = 10)"
   ]
  },
  {
   "cell_type": "code",
   "execution_count": 9,
   "metadata": {},
   "outputs": [],
   "source": [
    "from sklearn.model_selection import train_test_split\n",
    "X_train, X_val, Y_train, Y_val = train_test_split(X_train, Y_train, test_size = 0.1, random_state=2)"
   ]
  },
  {
   "cell_type": "code",
   "execution_count": 10,
   "metadata": {},
   "outputs": [
    {
     "data": {
      "text/plain": [
       "<matplotlib.image.AxesImage at 0x2083f468348>"
      ]
     },
     "execution_count": 10,
     "metadata": {},
     "output_type": "execute_result"
    },
    {
     "data": {
      "image/png": "[encoded data removed]",
      "text/plain": [
       "<Figure size 432x288 with 1 Axes>"
      ]
     },
     "metadata": {
      "needs_background": "light"
     },
     "output_type": "display_data"
    }
   ],
   "source": [
    "#show\n",
    "plt.imshow(X_train[0][:,:,0])"
   ]
  },
  {
   "cell_type": "code",
   "execution_count": 11,
   "metadata": {},
   "outputs": [],
   "source": [
    "from keras.models import Sequential\n",
    "from keras.layers import Dense, Dropout, Flatten, Conv2D, MaxPool2D\n",
    "from keras.optimizers import RMSprop\n",
    "from keras.preprocessing.image import ImageDataGenerator\n",
    "from keras.callbacks import ReduceLROnPlateau"
   ]
  },
  {
   "cell_type": "code",
   "execution_count": 12,
   "metadata": {},
   "outputs": [],
   "source": [
    "classifier = Sequential()\n",
    "\n",
    "classifier.add(Conv2D(filters = 32, kernel_size = (5,5),padding = 'Same', \n",
    "                 activation ='relu', input_shape = (28,28,1)))\n",
    "classifier.add(Conv2D(filters = 32, kernel_size = (5,5),padding = 'Same', \n",
    "                 activation ='relu'))\n",
    "classifier.add(MaxPool2D(pool_size=(2,2)))\n",
    "classifier.add(Dropout(0.25))\n",
    "\n",
    "\n",
    "classifier.add(Conv2D(filters = 64, kernel_size = (3,3),padding = 'Same', \n",
    "                 activation ='relu'))\n",
    "classifier.add(Conv2D(filters = 64, kernel_size = (3,3),padding = 'Same', \n",
    "                 activation ='relu'))\n",
    "classifier.add(MaxPool2D(pool_size=(2,2), strides=(2,2)))\n",
    "classifier.add(Dropout(0.25))\n",
    "\n",
    "\n",
    "classifier.add(Flatten())\n",
    "classifier.add(Dense(256, activation = \"relu\"))\n",
    "classifier.add(Dropout(0.5))\n",
    "classifier.add(Dense(10, activation = \"softmax\"))"
   ]
  },
  {
   "cell_type": "code",
   "execution_count": 13,
   "metadata": {},
   "outputs": [],
   "source": [
    "classifier.compile(optimizer = 'adam' , loss = \"categorical_crossentropy\", metrics=[\"accuracy\"])"
   ]
  },
  {
   "cell_type": "code",
   "execution_count": 14,
   "metadata": {},
   "outputs": [],
   "source": [
    "datagen = ImageDataGenerator(\n",
    "        featurewise_center=False,  # set input mean to 0 over the dataset\n",
    "        samplewise_center=False,  # set each sample mean to 0\n",
    "        featurewise_std_normalization=False,  # divide inputs by std of the dataset\n",
    "        samplewise_std_normalization=False,  # divide each input by its std\n",
    "        zca_whitening=False,  # apply ZCA whitening\n",
    "        rotation_range=10,  # randomly rotate images in the range (degrees, 0 to 180)\n",
    "        zoom_range = 0.1, # Randomly zoom image \n",
    "        width_shift_range=0.1,  # randomly shift images horizontally (fraction of total width)\n",
    "        height_shift_range=0.1,  # randomly shift images vertically (fraction of total height)\n",
    "        horizontal_flip=False,  # randomly flip images\n",
    "        vertical_flip=False)  # randomly flip images\n",
    "\n",
    "\n",
    "datagen.fit(X_train)"
   ]
  },
  {
   "cell_type": "code",
   "execution_count": 15,
   "metadata": {},
   "outputs": [
    {
     "name": "stdout",
     "output_type": "stream",
     "text": [
      "WARNING:tensorflow:From <ipython-input-15-f89ecb914b2c>:3: Model.fit_generator (from tensorflow.python.keras.engine.training) is deprecated and will be removed in a future version.\n",
      "Instructions for updating:\n",
      "Please use Model.fit, which supports generators.\n",
      "Epoch 1/30\n",
      "439/439 - 7s - loss: 0.4164 - accuracy: 0.8654 - val_loss: 0.0664 - val_accuracy: 0.9776\n",
      "Epoch 2/30\n",
      "439/439 - 7s - loss: 0.1379 - accuracy: 0.9586 - val_loss: 0.0381 - val_accuracy: 0.9879\n",
      "Epoch 3/30\n",
      "439/439 - 7s - loss: 0.1006 - accuracy: 0.9695 - val_loss: 0.0367 - val_accuracy: 0.9893\n",
      "Epoch 4/30\n",
      "439/439 - 7s - loss: 0.0852 - accuracy: 0.9747 - val_loss: 0.0285 - val_accuracy: 0.9907\n",
      "Epoch 5/30\n",
      "439/439 - 7s - loss: 0.0749 - accuracy: 0.9781 - val_loss: 0.0329 - val_accuracy: 0.9895\n",
      "Epoch 6/30\n",
      "439/439 - 7s - loss: 0.0661 - accuracy: 0.9806 - val_loss: 0.0294 - val_accuracy: 0.9898\n",
      "Epoch 7/30\n",
      "439/439 - 7s - loss: 0.0628 - accuracy: 0.9811 - val_loss: 0.0244 - val_accuracy: 0.9924\n",
      "Epoch 8/30\n",
      "439/439 - 7s - loss: 0.0565 - accuracy: 0.9835 - val_loss: 0.0267 - val_accuracy: 0.9912\n",
      "Epoch 9/30\n",
      "439/439 - 7s - loss: 0.0520 - accuracy: 0.9843 - val_loss: 0.0238 - val_accuracy: 0.9919\n",
      "Epoch 10/30\n",
      "439/439 - 7s - loss: 0.0524 - accuracy: 0.9843 - val_loss: 0.0211 - val_accuracy: 0.9940\n",
      "Epoch 11/30\n",
      "439/439 - 7s - loss: 0.0492 - accuracy: 0.9850 - val_loss: 0.0219 - val_accuracy: 0.9945\n",
      "Epoch 12/30\n",
      "439/439 - 7s - loss: 0.0449 - accuracy: 0.9863 - val_loss: 0.0164 - val_accuracy: 0.9950\n",
      "Epoch 13/30\n",
      "439/439 - 7s - loss: 0.0437 - accuracy: 0.9872 - val_loss: 0.0241 - val_accuracy: 0.9921\n",
      "Epoch 14/30\n",
      "439/439 - 7s - loss: 0.0419 - accuracy: 0.9875 - val_loss: 0.0263 - val_accuracy: 0.9919\n",
      "Epoch 15/30\n",
      "439/439 - 7s - loss: 0.0374 - accuracy: 0.9890 - val_loss: 0.0187 - val_accuracy: 0.9950\n",
      "Epoch 16/30\n",
      "439/439 - 9s - loss: 0.0379 - accuracy: 0.9885 - val_loss: 0.0234 - val_accuracy: 0.9938\n",
      "Epoch 17/30\n",
      "439/439 - 7s - loss: 0.0369 - accuracy: 0.9888 - val_loss: 0.0239 - val_accuracy: 0.9938\n",
      "Epoch 18/30\n",
      "439/439 - 7s - loss: 0.0386 - accuracy: 0.9889 - val_loss: 0.0211 - val_accuracy: 0.9943\n",
      "Epoch 19/30\n",
      "439/439 - 8s - loss: 0.0385 - accuracy: 0.9890 - val_loss: 0.0296 - val_accuracy: 0.9926\n",
      "Epoch 20/30\n",
      "439/439 - 8s - loss: 0.0332 - accuracy: 0.9901 - val_loss: 0.0177 - val_accuracy: 0.9938\n",
      "Epoch 21/30\n",
      "439/439 - 7s - loss: 0.0343 - accuracy: 0.9893 - val_loss: 0.0230 - val_accuracy: 0.9936\n",
      "Epoch 22/30\n",
      "439/439 - 8s - loss: 0.0343 - accuracy: 0.9896 - val_loss: 0.0173 - val_accuracy: 0.9943\n",
      "Epoch 23/30\n",
      "439/439 - 8s - loss: 0.0332 - accuracy: 0.9908 - val_loss: 0.0284 - val_accuracy: 0.9921\n",
      "Epoch 24/30\n",
      "439/439 - 7s - loss: 0.0336 - accuracy: 0.9895 - val_loss: 0.0184 - val_accuracy: 0.9943\n",
      "Epoch 25/30\n",
      "439/439 - 8s - loss: 0.0320 - accuracy: 0.9905 - val_loss: 0.0194 - val_accuracy: 0.9945\n",
      "Epoch 26/30\n",
      "439/439 - 7s - loss: 0.0327 - accuracy: 0.9903 - val_loss: 0.0197 - val_accuracy: 0.9938\n",
      "Epoch 27/30\n",
      "439/439 - 7s - loss: 0.0304 - accuracy: 0.9910 - val_loss: 0.0180 - val_accuracy: 0.9945\n",
      "Epoch 28/30\n",
      "439/439 - 7s - loss: 0.0314 - accuracy: 0.9901 - val_loss: 0.0147 - val_accuracy: 0.9950\n",
      "Epoch 29/30\n",
      "439/439 - 7s - loss: 0.0284 - accuracy: 0.9907 - val_loss: 0.0174 - val_accuracy: 0.9950\n",
      "Epoch 30/30\n",
      "439/439 - 7s - loss: 0.0276 - accuracy: 0.9919 - val_loss: 0.0195 - val_accuracy: 0.9933\n"
     ]
    },
    {
     "data": {
      "text/plain": [
       "<tensorflow.python.keras.callbacks.History at 0x2083f491448>"
      ]
     },
     "execution_count": 15,
     "metadata": {},
     "output_type": "execute_result"
    }
   ],
   "source": [
    "classifier.fit_generator(datagen.flow(X_train,Y_train, batch_size=86),\n",
    "                              epochs = 30, validation_data = (X_val,Y_val),\n",
    "                              verbose = 2, steps_per_epoch=X_train.shape[0] // 86)"
   ]
  },
  {
   "cell_type": "code",
   "execution_count": 16,
   "metadata": {},
   "outputs": [],
   "source": [
    "classifier.save(\"d1.h5\")"
   ]
  }
 ],
 "metadata": {
  "kernelspec": {
   "display_name": "Python 3",
   "language": "python",
   "name": "python3"
  },
  "language_info": {
   "codemirror_mode": {
    "name": "ipython",
    "version": 3
   },
   "file_extension": ".py",
   "mimetype": "text/x-python",
   "name": "python",
   "nbconvert_exporter": "python",
   "pygments_lexer": "ipython3",
   "version": "3.7.9"
  }
 },
 "nbformat": 4,
 "nbformat_minor": 2
}
